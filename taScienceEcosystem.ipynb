{
 "cells": [
  {
   "cell_type": "code",
   "execution_count": null,
   "id": "a38dd013-4ef2-4030-bbf6-5fb9c8b840ad",
   "metadata": {},
   "outputs": [],
   "source": []
  },
  {
   "cell_type": "markdown",
   "id": "28d1a511-8304-4fa6-80a5-28d4d27c61c9",
   "metadata": {},
   "source": [
    "# Data Science Tools and Ecosystem"
   ]
  },
  {
   "cell_type": "markdown",
   "id": "9242b80a-1beb-4204-85a3-3f266e807a2e",
   "metadata": {},
   "source": [
    "In this notebook, Data Science Tools and Ecosystem are summarized.\r\n"
   ]
  },
  {
   "cell_type": "markdown",
   "id": "a68fad7a-0d49-4c0c-9d3c-e7a5e5bbcf9e",
   "metadata": {},
   "source": [
    "Some of the popular languages that Data Scientists use are:\r\n",
    "\r\n",
    "1. Python\r\n",
    "2. R\r\n",
    "3. SQL\r\n",
    "4. Julia\r\n"
   ]
  },
  {
   "cell_type": "markdown",
   "id": "6ad88ec2-eafb-4c61-85c0-a27fd01804aa",
   "metadata": {},
   "source": [
    "\n",
    "Exercise 5 - Create a markdown cell to list data science libraries\r\n",
    "\r\n",
    "Add an overview line to the cell like:\r\n",
    "\r\n",
    "Some of the commonly used libraries used by Data Scientists include:\r\n",
    "Below this line add an ordered list listing 3 (or more) commonly used libraries in data science.\r\n",
    "Take a screenshot of the markdown cell and name it as 5-dslibraries.png (Images can be saved with either the .jpg or .png extension.)"
   ]
  },
  {
   "cell_type": "markdown",
   "id": "b25edc9c-ed2a-40f7-a5e3-9dc1bc6891ad",
   "metadata": {},
   "source": [
    "Some of the commonly used libraries used by Data Scientists include:\r\n",
    "\r\n",
    "1. NumPy\r\n",
    "2. Pandas\r\n",
    "3. Matplotlib\r\n",
    "4. Scikit-learn\r\n",
    "5. TensorFlow\r\n"
   ]
  },
  {
   "cell_type": "markdown",
   "id": "700e4b18-f928-4c46-99a9-6ff9d264b8e8",
   "metadata": {},
   "source": [
    "| Data Science Tools |\n",
    "|--------------------|\n",
    "| Jupyter Notebook   |\n",
    "| RStudio            |\n",
    "| Apache Zeppelin    |\n"
   ]
  },
  {
   "cell_type": "markdown",
   "id": "1ad3405a-a694-4fdd-8e80-e22a52ba6dad",
   "metadata": {},
   "source": [
    "### Below are a few examples of evaluating arithmetic expressions in Python.\r\n"
   ]
  },
  {
   "cell_type": "code",
   "execution_count": 9,
   "id": "3d88d575-2e14-403e-ad42-d8d2d3604733",
   "metadata": {},
   "outputs": [
    {
     "data": {
      "text/plain": [
       "17"
      ]
     },
     "execution_count": 9,
     "metadata": {},
     "output_type": "execute_result"
    }
   ],
   "source": [
    "# This is a simple arithmetic expression to multiply then add integers\n",
    "(3 * 4) + 5\n"
   ]
  },
  {
   "cell_type": "code",
   "execution_count": 11,
   "id": "70ab23cb-26f4-4a85-8593-8ab55951c877",
   "metadata": {},
   "outputs": [
    {
     "data": {
      "text/plain": [
       "3.3333333333333335"
      ]
     },
     "execution_count": 11,
     "metadata": {},
     "output_type": "execute_result"
    }
   ],
   "source": [
    "# This will convert 200 minutes to hours by dividing by 60\n",
    "200 / 60\n"
   ]
  },
  {
   "cell_type": "markdown",
   "id": "adf79dea-0a93-49f1-960f-85f7b5282d21",
   "metadata": {},
   "source": [
    "**Popular Languages in Data Science:**\n",
    "\n",
    "- Python\n",
    "- R\n",
    "- SQL\n",
    "- Julia\n",
    "- Scala\n"
   ]
  },
  {
   "cell_type": "markdown",
   "id": "ea8ecf3f-8571-4888-9b1b-92bb4afdece4",
   "metadata": {},
   "source": [
    "## Author\r",
    "Khaled Hossame\r\n"
   ]
  },
  {
   "cell_type": "code",
   "execution_count": null,
   "id": "808e7f9c-fa9b-4635-b0f2-43aa63ebde4b",
   "metadata": {},
   "outputs": [],
   "source": []
  }
 ],
 "metadata": {
  "kernelspec": {
   "display_name": "anaconda-2022.05-py39",
   "language": "python",
   "name": "conda-env-anaconda-2022.05-py39-py"
  },
  "language_info": {
   "codemirror_mode": {
    "name": "ipython",
    "version": 3
   },
   "file_extension": ".py",
   "mimetype": "text/x-python",
   "name": "python",
   "nbconvert_exporter": "python",
   "pygments_lexer": "ipython3",
   "version": "3.9.12"
  }
 },
 "nbformat": 4,
 "nbformat_minor": 5
}
